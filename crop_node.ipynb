{
 "cells": [
  {
   "cell_type": "code",
   "execution_count": 63,
   "metadata": {},
   "outputs": [],
   "source": [
    "import os\n",
    "import SimpleITK as sitk\n",
    "import numpy as np\n",
    "import pandas as pd \n",
    "import matplotlib.pylab as plt\n",
    "from tqdm.notebook import trange, tqdm"
   ]
  },
  {
   "cell_type": "code",
   "execution_count": 80,
   "metadata": {},
   "outputs": [],
   "source": [
    "DATA_PATH = \"data/sample\"\n",
    "NODE_CSV_PATH = \"data/sample/node.csv\"\n",
    "\n",
    "OUTPUT_PATH = \"data/preprocessed\"\n",
    "EXT = \"npy\"\n",
    "\n",
    "SKIP_PREPROCESSED = False\n",
    "\n",
    "RUN_TEST = False"
   ]
  },
  {
   "cell_type": "code",
   "execution_count": 3,
   "metadata": {},
   "outputs": [],
   "source": [
    "def convert_to_voxel_coords(origin, spacing, coords):\n",
    "    voxel_coords = [np.absolute(coords[i]-origin[i])/spacing[i] for i in range(len(coords))]\n",
    "    return tuple(voxel_coords)\n",
    "\n",
    "def create_coords_converter(origin, spacing):\n",
    "    return lambda coords: convert_to_voxel_coords(origin, spacing, coords);\n",
    "\n",
    "def get_coords_from_node_row(row):\n",
    "    return row[[\"coordX\", \"coordY\", \"coordZ\"]]"
   ]
  },
  {
   "cell_type": "code",
   "execution_count": 24,
   "metadata": {},
   "outputs": [],
   "source": [
    "def load_scan(filename):\n",
    "    scan_data = sitk.ReadImage(os.path.join(DATA_PATH, filename))\n",
    "    origin = np.array(scan_data.GetOrigin())\n",
    "    spacing = np.array(scan_data.GetSpacing())\n",
    "\n",
    "    return sitk.GetArrayFromImage(scan_data), origin, spacing"
   ]
  },
  {
   "cell_type": "code",
   "execution_count": 4,
   "metadata": {},
   "outputs": [],
   "source": [
    "def crop_subimage(slices, converter, coords, width = 50):\n",
    "    x, y, z = converter(coords)\n",
    "    return slices[int(z), int(y - width / 2):int(y + width / 2), int(x - width / 2):int(x + width / 2)]"
   ]
  },
  {
   "cell_type": "code",
   "execution_count": 5,
   "metadata": {},
   "outputs": [],
   "source": [
    "def normalize_image(image):\n",
    "    \"\"\"From SITK - converting hounds units to grayscale units\"\"\"\n",
    "    maxHU = 400.0\n",
    "    minHU = -1000.0\n",
    "    \n",
    "    image = (image - minHU) / (maxHU - minHU)\n",
    "    image[image > 1] = 1.0\n",
    "    image[image < 0] = 0.0\n",
    "    \n",
    "    return (image * 255).astype(np.uint8);"
   ]
  },
  {
   "cell_type": "code",
   "execution_count": 87,
   "metadata": {},
   "outputs": [
    {
     "data": {
      "application/vnd.jupyter.widget-view+json": {
       "model_id": "b0fd6f282e0e417a89435017ae497924",
       "version_major": 2,
       "version_minor": 0
      },
      "text/plain": [
       "HBox(children=(FloatProgress(value=1.0, bar_style='info', description='iterate over all mhd', max=1.0, style=P…"
      ]
     },
     "metadata": {},
     "output_type": "display_data"
    },
    {
     "data": {
      "application/vnd.jupyter.widget-view+json": {
       "model_id": "6b21bbadcccb4337827843ccb73de254",
       "version_major": 2,
       "version_minor": 0
      },
      "text/plain": [
       "HBox(children=(FloatProgress(value=0.0, description='0', max=441.0, style=ProgressStyle(description_width='ini…"
      ]
     },
     "metadata": {},
     "output_type": "display_data"
    },
    {
     "name": "stdout",
     "output_type": "stream",
     "text": [
      "\n",
      "\n",
      "Preprocessed: 1\n",
      "Nodes 441\n",
      "Skiped: 0\n",
      "Error: 0\n"
     ]
    }
   ],
   "source": [
    "def extract_features():\n",
    "    skiped = 0\n",
    "    errors = 0\n",
    "    preprocessed = 0\n",
    "    nodes = 0\n",
    "    \n",
    "    # create output dir\n",
    "    if not os.path.exists(OUTPUT_PATH):\n",
    "        os.makedirs(OUTPUT_PATH)\n",
    "    \n",
    "    # read csv data\n",
    "    nodes_df = pd.read_csv(NODE_CSV_PATH)\n",
    "    \n",
    "    file_names = list(filter(lambda x: x.endswith(\".mhd\"), os.listdir(DATA_PATH)));\n",
    "    for index, file_name in tqdm(enumerate(file_names), desc=\"iterate over all mhd\"):\n",
    "        file_name_without_ext = file_name[:-4]\n",
    "        # read all data which is connected with current file\n",
    "        suspicious_places = nodes_df[nodes_df[\"seriesuid\"] == file_name_without_ext]\n",
    "        \n",
    "        if len(suspicious_places) == 0:\n",
    "            print(\"Cound't find csv data for {}\".format(file_name));\n",
    "            errors += 1\n",
    "            continue\n",
    "            \n",
    "        path = os.path.join(OUTPUT_PATH, file_name_without_ext)\n",
    "        if not os.path.exists(path):\n",
    "            os.makedirs(path)\n",
    "        elif SKIP_PREPROCESSED:\n",
    "            skiped += 1\n",
    "            continue\n",
    "            \n",
    "        # load scan data\n",
    "        scan, origin, spacing = load_scan(file_name)\n",
    "        \n",
    "        # crate coords converter \n",
    "        converter = create_coords_converter(origin, spacing)\n",
    "        \n",
    "        preprocessed += 1\n",
    "        for i, row in tqdm(suspicious_places.iterrows(), total=len(suspicious_places), desc=str(index)):\n",
    "            coords = get_coords_from_node_row(row)\n",
    "            subimage = crop_subimage(scan, converter, coords)\n",
    "            subimage = normalize_image(subimage)\n",
    "            nodes += 1\n",
    "            np.save(os.path.join(path, \"{}-{}.{}\".format(i, row[\"class\"], EXT)), subimage);\n",
    "\n",
    "    return preprocessed, nodes, skiped, errors\n",
    "preprocessed, nodes, skiped, errors = extract_features()\n",
    "print (\"Preprocessed: {}\\nNodes {}\\nSkiped: {}\\nError: {}\".format(preprocessed, nodes, skiped, errors))"
   ]
  },
  {
   "cell_type": "code",
   "execution_count": 81,
   "metadata": {},
   "outputs": [],
   "source": [
    "def test():\n",
    "    folders = list(filter(lambda x: not x.startswith(\".\"), os.listdir(OUTPUT_PATH)))\n",
    "    path = os.path.join(OUTPUT_PATH, folders[0])\n",
    "    file_names = os.listdir(path)\n",
    "    file_names = file_names[::int(len(file_names)/20)]\n",
    "    \n",
    "    fig = plt.figure(figsize=(50, 50))\n",
    "    i = 0\n",
    "    for name in file_names:\n",
    "        image = np.load(os.path.join(path, name))\n",
    "        subplot = fig.add_subplot(len(file_names) / 5 + 1, 5, i + 1)\n",
    "        i += 1\n",
    "        subplot.imshow(image, cmap='gray')\n",
    "\n",
    "if RUN_TEST:\n",
    "    test()"
   ]
  },
  {
   "cell_type": "code",
   "execution_count": null,
   "metadata": {},
   "outputs": [],
   "source": []
  }
 ],
 "metadata": {
  "kernelspec": {
   "display_name": "Python 3",
   "language": "python",
   "name": "python3"
  },
  "language_info": {
   "codemirror_mode": {
    "name": "ipython",
    "version": 3
   },
   "file_extension": ".py",
   "mimetype": "text/x-python",
   "name": "python",
   "nbconvert_exporter": "python",
   "pygments_lexer": "ipython3",
   "version": "3.7.6"
  }
 },
 "nbformat": 4,
 "nbformat_minor": 4
}
