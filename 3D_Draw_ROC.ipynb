{
 "cells": [
  {
   "cell_type": "code",
   "execution_count": 1,
   "metadata": {},
   "outputs": [
    {
     "name": "stdout",
     "output_type": "stream",
     "text": [
      "2.2.0\n",
      "2.3.0-tf\n"
     ]
    }
   ],
   "source": [
    "import tensorflow as tf\n",
    "from tensorflow import keras\n",
    "print(tf.__version__)\n",
    "\n",
    "print(keras.__version__)"
   ]
  },
  {
   "cell_type": "code",
   "execution_count": 17,
   "metadata": {},
   "outputs": [],
   "source": [
    "import os\n",
    "import numpy as np\n",
    "import pandas as pd \n",
    "import math \n",
    "from sklearn.model_selection import train_test_split\n",
    "import matplotlib.pyplot as plt\n",
    "from sklearn.metrics import classification_report, roc_curve, confusion_matrix"
   ]
  },
  {
   "cell_type": "code",
   "execution_count": 14,
   "metadata": {},
   "outputs": [],
   "source": [
    "def get_roc_curve(model, X, y):\n",
    "    pred_proba = np.argmax(model.predict(X), axis=-1)\n",
    "    fpr, tpr, _ = roc_curve(y, pred_proba)\n",
    "    return fpr, tpr\n",
    "\n",
    "def draw_roc(roc):\n",
    "    fpr, tpr = roc\n",
    "    plt.figure()\n",
    "    plt.plot(fpr, tpr, color=\"red\")\n",
    "    plt.plot([0, 1], [0, 1], color='black', lw=2, linestyle='--')\n",
    "    plt.xlim([0.0, 1.0])\n",
    "    plt.ylim([0.0, 1.05])\n",
    "    plt.xlabel('False Positive Rate')\n",
    "    plt.ylabel('True Positive Rate')\n",
    "    plt.title('Roc curve')\n",
    "    plt.show()\n",
    "    \n",
    "def load_slices(file):\n",
    "    return np.load(images_path+file+\".npy\")    "
   ]
  },
  {
   "cell_type": "markdown",
   "metadata": {},
   "source": [
    "# 3D Data"
   ]
  },
  {
   "cell_type": "code",
   "execution_count": 5,
   "metadata": {},
   "outputs": [],
   "source": [
    "labels_path = 'labels.csv'\n",
    "images_path = '../completed/'\n",
    "IMG_SIZE = 64\n",
    "IMG_DEPTH = 32"
   ]
  },
  {
   "cell_type": "code",
   "execution_count": 9,
   "metadata": {},
   "outputs": [],
   "source": [
    "candidates = pd.read_csv(labels_path,index_col=0)\n",
    "\n",
    "\n",
    "slicesData = []\n",
    "slicesLabel = []\n",
    "for index, candidat in candidates.iterrows():\n",
    "    slices = load_slices(candidat.seriesuid)\n",
    "    label = []\n",
    "    if candidat.label == 1:\n",
    "        label = [1,0]\n",
    "    else:\n",
    "        label = [0,1]\n",
    "        \n",
    "    slicesData.append(slices.reshape([32,64,64,1]))\n",
    "    slicesLabel.append(label)\n",
    "\n",
    "slicesData = np.asarray(slicesData)\n",
    "slicesLabel = np.asarray(slicesLabel)"
   ]
  },
  {
   "cell_type": "code",
   "execution_count": 10,
   "metadata": {},
   "outputs": [
    {
     "name": "stdout",
     "output_type": "stream",
     "text": [
      "[480 230]\n",
      "[120  58]\n"
     ]
    }
   ],
   "source": [
    "Xtrain,Xtest,Ytrain,Ytest= train_test_split(slicesData,slicesLabel,train_size=0.8,random_state=2137)\n",
    "print(np.sum(Ytrain,axis=0))\n",
    "print(np.sum(Ytest,axis=0))"
   ]
  },
  {
   "cell_type": "code",
   "execution_count": 12,
   "metadata": {},
   "outputs": [],
   "source": [
    "modelCNN = keras.models.load_model('./CNN_Model_3D')"
   ]
  },
  {
   "cell_type": "code",
   "execution_count": 18,
   "metadata": {},
   "outputs": [],
   "source": [
    "roc_cnn_3d = get_roc_curve(modelCNN, Xtest, Ytest[:,1])"
   ]
  },
  {
   "cell_type": "code",
   "execution_count": 19,
   "metadata": {},
   "outputs": [
    {
     "data": {
      "image/png": "[encoded data removed]",
      "text/plain": [
       "<Figure size 432x288 with 1 Axes>"
      ]
     },
     "metadata": {
      "needs_background": "light"
     },
     "output_type": "display_data"
    }
   ],
   "source": [
    "draw_roc(roc_cnn_3d)"
   ]
  }
 ],
 "metadata": {
  "kernelspec": {
   "display_name": "Python 3",
   "language": "python",
   "name": "python3"
  },
  "language_info": {
   "codemirror_mode": {
    "name": "ipython",
    "version": 3
   },
   "file_extension": ".py",
   "mimetype": "text/x-python",
   "name": "python",
   "nbconvert_exporter": "python",
   "pygments_lexer": "ipython3",
   "version": "3.7.6"
  }
 },
 "nbformat": 4,
 "nbformat_minor": 4
}
